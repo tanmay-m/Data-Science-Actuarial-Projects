{
 "cells": [
  {
   "cell_type": "markdown",
   "metadata": {},
   "source": [
    "In this workbook, I will develop a model to predict claim occurrance using automobile insurance dataset.\n",
    "To achieve this, I am going to clean and explore the data, conduct statistical analysis and create a logistics regression model.\n",
    "This dataset comes from the book: \"Generalized Linear Models for Insurance Data\"."
   ]
  },
  {
   "cell_type": "markdown",
   "metadata": {},
   "source": [
    "# Import basic libraries"
   ]
  },
  {
   "cell_type": "code",
   "execution_count": 1,
   "metadata": {
    "collapsed": true
   },
   "outputs": [],
   "source": [
    "import pandas as pd\n",
    "import numpy as np\n",
    "import re\n",
    "import seaborn as sns\n",
    "import matplotlib.pyplot as plt\n",
    "%matplotlib inline"
   ]
  },
  {
   "cell_type": "markdown",
   "metadata": {},
   "source": [
    "# Load data and quick look into dataset"
   ]
  },
  {
   "cell_type": "code",
   "execution_count": 2,
   "metadata": {},
   "outputs": [
    {
     "name": "stdout",
     "output_type": "stream",
     "text": [
      "odict_keys(['claims'])\n"
     ]
    },
    {
     "data": {
      "text/html": [
       "<div>\n",
       "<style>\n",
       "    .dataframe thead tr:only-child th {\n",
       "        text-align: right;\n",
       "    }\n",
       "\n",
       "    .dataframe thead th {\n",
       "        text-align: left;\n",
       "    }\n",
       "\n",
       "    .dataframe tbody tr th {\n",
       "        vertical-align: top;\n",
       "    }\n",
       "</style>\n",
       "<table border=\"1\" class=\"dataframe\">\n",
       "  <thead>\n",
       "    <tr style=\"text-align: right;\">\n",
       "      <th></th>\n",
       "      <th>ID</th>\n",
       "      <th>KIDSDRIV</th>\n",
       "      <th>PLCYDATE</th>\n",
       "      <th>TRAVTIME</th>\n",
       "      <th>CAR_USE</th>\n",
       "      <th>POLICYNO</th>\n",
       "      <th>BLUEBOOK</th>\n",
       "      <th>INITDATE</th>\n",
       "      <th>RETAINED</th>\n",
       "      <th>NPOLICY</th>\n",
       "      <th>...</th>\n",
       "      <th>INCOME</th>\n",
       "      <th>GENDER</th>\n",
       "      <th>MARRIED</th>\n",
       "      <th>PARENT1</th>\n",
       "      <th>JOBCLASS</th>\n",
       "      <th>MAX_EDUC</th>\n",
       "      <th>HOME_VAL</th>\n",
       "      <th>SAMEHOME</th>\n",
       "      <th>DENSITY</th>\n",
       "      <th>YEARQTR</th>\n",
       "    </tr>\n",
       "  </thead>\n",
       "  <tbody>\n",
       "    <tr>\n",
       "      <th>0</th>\n",
       "      <td>100058542</td>\n",
       "      <td>0</td>\n",
       "      <td>17mars96</td>\n",
       "      <td>17</td>\n",
       "      <td>Private</td>\n",
       "      <td>36292520</td>\n",
       "      <td>$9860</td>\n",
       "      <td>06février90</td>\n",
       "      <td>6</td>\n",
       "      <td>2</td>\n",
       "      <td>...</td>\n",
       "      <td>NaN</td>\n",
       "      <td>M</td>\n",
       "      <td>Yes</td>\n",
       "      <td>No</td>\n",
       "      <td>Clerical</td>\n",
       "      <td>&lt;High School</td>\n",
       "      <td>$123721</td>\n",
       "      <td>7.0</td>\n",
       "      <td>Highly Urban</td>\n",
       "      <td>1996Q1</td>\n",
       "    </tr>\n",
       "    <tr>\n",
       "      <th>1</th>\n",
       "      <td>100093408</td>\n",
       "      <td>0</td>\n",
       "      <td>26juillet93</td>\n",
       "      <td>18</td>\n",
       "      <td>Private</td>\n",
       "      <td>31958061</td>\n",
       "      <td>$1500</td>\n",
       "      <td>25aoűt89</td>\n",
       "      <td>4</td>\n",
       "      <td>2</td>\n",
       "      <td>...</td>\n",
       "      <td>$4457</td>\n",
       "      <td>M</td>\n",
       "      <td>No</td>\n",
       "      <td>Yes</td>\n",
       "      <td>Student</td>\n",
       "      <td>High School</td>\n",
       "      <td>$0</td>\n",
       "      <td>1.0</td>\n",
       "      <td>Urban</td>\n",
       "      <td>1993Q3</td>\n",
       "    </tr>\n",
       "    <tr>\n",
       "      <th>2</th>\n",
       "      <td>100208113</td>\n",
       "      <td>0</td>\n",
       "      <td>06juin94</td>\n",
       "      <td>47</td>\n",
       "      <td>Commercial</td>\n",
       "      <td>42433312</td>\n",
       "      <td>$30460</td>\n",
       "      <td>07juin90</td>\n",
       "      <td>4</td>\n",
       "      <td>1</td>\n",
       "      <td>...</td>\n",
       "      <td>$102904</td>\n",
       "      <td>M</td>\n",
       "      <td>No</td>\n",
       "      <td>No</td>\n",
       "      <td>NaN</td>\n",
       "      <td>Masters</td>\n",
       "      <td>$0</td>\n",
       "      <td>18.0</td>\n",
       "      <td>Urban</td>\n",
       "      <td>1994Q2</td>\n",
       "    </tr>\n",
       "    <tr>\n",
       "      <th>3</th>\n",
       "      <td>100237269</td>\n",
       "      <td>0</td>\n",
       "      <td>19janvier99</td>\n",
       "      <td>31</td>\n",
       "      <td>Private</td>\n",
       "      <td>49896544</td>\n",
       "      <td>$16580</td>\n",
       "      <td>01avril95</td>\n",
       "      <td>4</td>\n",
       "      <td>2</td>\n",
       "      <td>...</td>\n",
       "      <td>$14554</td>\n",
       "      <td>F</td>\n",
       "      <td>Yes</td>\n",
       "      <td>No</td>\n",
       "      <td>Student</td>\n",
       "      <td>High School</td>\n",
       "      <td>$0</td>\n",
       "      <td>8.0</td>\n",
       "      <td>Rural</td>\n",
       "      <td>1999Q1</td>\n",
       "    </tr>\n",
       "    <tr>\n",
       "      <th>4</th>\n",
       "      <td>10042968</td>\n",
       "      <td>0</td>\n",
       "      <td>18mai99</td>\n",
       "      <td>14</td>\n",
       "      <td>Commercial</td>\n",
       "      <td>79298192</td>\n",
       "      <td>$23030</td>\n",
       "      <td>19mai95</td>\n",
       "      <td>4</td>\n",
       "      <td>1</td>\n",
       "      <td>...</td>\n",
       "      <td>$99493</td>\n",
       "      <td>F</td>\n",
       "      <td>Yes</td>\n",
       "      <td>No</td>\n",
       "      <td>Blue Collar</td>\n",
       "      <td>High School</td>\n",
       "      <td>$288808</td>\n",
       "      <td>1.0</td>\n",
       "      <td>Urban</td>\n",
       "      <td>1999Q2</td>\n",
       "    </tr>\n",
       "  </tbody>\n",
       "</table>\n",
       "<p>5 rows × 33 columns</p>\n",
       "</div>"
      ],
      "text/plain": [
       "          ID  KIDSDRIV     PLCYDATE  TRAVTIME     CAR_USE  POLICYNO BLUEBOOK  \\\n",
       "0  100058542         0     17mars96        17     Private  36292520   $9860    \n",
       "1  100093408         0  26juillet93        18     Private  31958061   $1500    \n",
       "2  100208113         0     06juin94        47  Commercial  42433312  $30460    \n",
       "3  100237269         0  19janvier99        31     Private  49896544  $16580    \n",
       "4   10042968         0      18mai99        14  Commercial  79298192  $23030    \n",
       "\n",
       "      INITDATE  RETAINED  NPOLICY   ...      INCOME GENDER MARRIED  PARENT1  \\\n",
       "0  06février90         6        2   ...         NaN      M     Yes       No   \n",
       "1     25aoűt89         4        2   ...      $4457       M      No      Yes   \n",
       "2     07juin90         4        1   ...    $102904       M      No       No   \n",
       "3    01avril95         4        2   ...     $14554       F     Yes       No   \n",
       "4      19mai95         4        1   ...     $99493       F     Yes       No   \n",
       "\n",
       "      JOBCLASS      MAX_EDUC  HOME_VAL SAMEHOME       DENSITY YEARQTR  \n",
       "0     Clerical  <High School  $123721       7.0  Highly Urban  1996Q1  \n",
       "1      Student   High School       $0       1.0         Urban  1993Q3  \n",
       "2          NaN       Masters       $0      18.0         Urban  1994Q2  \n",
       "3      Student   High School       $0       8.0         Rural  1999Q1  \n",
       "4  Blue Collar   High School  $288808       1.0         Urban  1999Q2  \n",
       "\n",
       "[5 rows x 33 columns]"
      ]
     },
     "execution_count": 2,
     "metadata": {},
     "output_type": "execute_result"
    }
   ],
   "source": [
    "# read excel workbook\n",
    "xl = pd.read_excel('data.xls', sheetname=None)\n",
    "# print existing worksheets\n",
    "print(xl.keys())\n",
    "# investigate 5 top rows to get an intuitation about the data\n",
    "xl['claims'].head()"
   ]
  },
  {
   "cell_type": "code",
   "execution_count": 3,
   "metadata": {},
   "outputs": [
    {
     "name": "stdout",
     "output_type": "stream",
     "text": [
      "Index(['ID', 'KIDSDRIV', 'PLCYDATE', 'TRAVTIME', 'CAR_USE', 'POLICYNO',\n",
      "       'BLUEBOOK', 'INITDATE', 'RETAINED', 'NPOLICY', 'CAR_TYPE', 'RED_CAR',\n",
      "       'OLDCLAIM', 'CLM_FREQ', 'REVOKED', 'MVR_PTS', 'CLM_AMT', 'CLM_DATE',\n",
      "       'CLM_FLAG', 'BIRTH', 'AGE', 'HOMEKIDS', 'YOJ', 'INCOME', 'GENDER',\n",
      "       'MARRIED', 'PARENT1', 'JOBCLASS', 'MAX_EDUC', 'HOME_VAL', 'SAMEHOME',\n",
      "       'DENSITY', 'YEARQTR'],\n",
      "      dtype='object')\n"
     ]
    }
   ],
   "source": [
    "# print column names for easy access\n",
    "print(xl['claims'].columns)"
   ]
  },
  {
   "cell_type": "code",
   "execution_count": 4,
   "metadata": {
    "collapsed": true
   },
   "outputs": [],
   "source": [
    "# choose features and assign them to variable 'data' as pandas dataframe\n",
    "data = xl['claims'][['KIDSDRIV', 'TRAVTIME', 'CAR_USE', 'MVR_PTS', 'BLUEBOOK', 'RETAINED', 'NPOLICY', 'CAR_TYPE', 'AGE', 'INCOME', 'GENDER', 'MARRIED', 'MAX_EDUC', 'DENSITY', 'CLM_FREQ']]"
   ]
  },
  {
   "cell_type": "markdown",
   "metadata": {},
   "source": [
    "Here is the description of chosen variables:\n",
    "\n",
    "- CLM_FREQ No. of claims in 5 years\n",
    "- AGE Policyholder age\n",
    "- BLUEBOOK Blue book value of car\n",
    "- CAR_TYPE Type of car: sedan, SUV, etc.\n",
    "- CAR_USE Private or Commercial use\n",
    "- DENSITY Population Density (rural, urban)\n",
    "- GENDER Gender\n",
    "- INCOME Policyholder income\n",
    "- KIDSDRIVE No. of children that drive\n",
    "- MARRIED Marital status\n",
    "- MAX_EDUC Highest education\n",
    "- MVR_PTS Motor Vehicle Points\n",
    "- NPOLICY Number of policies\n",
    "- PLCYDATE Policy Inception Data\n",
    "- RETAINED Number of years policy renewed\n",
    "- TRAVTIME Travel time to work"
   ]
  },
  {
   "cell_type": "markdown",
   "metadata": {},
   "source": [
    "# Data wrangling and exploration "
   ]
  },
  {
   "cell_type": "markdown",
   "metadata": {},
   "source": [
    "Let's have another look at our data and see for missing values and type of each feature."
   ]
  },
  {
   "cell_type": "code",
   "execution_count": 5,
   "metadata": {},
   "outputs": [
    {
     "data": {
      "text/html": [
       "<div>\n",
       "<style>\n",
       "    .dataframe thead tr:only-child th {\n",
       "        text-align: right;\n",
       "    }\n",
       "\n",
       "    .dataframe thead th {\n",
       "        text-align: left;\n",
       "    }\n",
       "\n",
       "    .dataframe tbody tr th {\n",
       "        vertical-align: top;\n",
       "    }\n",
       "</style>\n",
       "<table border=\"1\" class=\"dataframe\">\n",
       "  <thead>\n",
       "    <tr style=\"text-align: right;\">\n",
       "      <th></th>\n",
       "      <th>KIDSDRIV</th>\n",
       "      <th>TRAVTIME</th>\n",
       "      <th>CAR_USE</th>\n",
       "      <th>MVR_PTS</th>\n",
       "      <th>BLUEBOOK</th>\n",
       "      <th>RETAINED</th>\n",
       "      <th>NPOLICY</th>\n",
       "      <th>CAR_TYPE</th>\n",
       "      <th>AGE</th>\n",
       "      <th>INCOME</th>\n",
       "      <th>GENDER</th>\n",
       "      <th>MARRIED</th>\n",
       "      <th>MAX_EDUC</th>\n",
       "      <th>DENSITY</th>\n",
       "      <th>CLM_FREQ</th>\n",
       "    </tr>\n",
       "  </thead>\n",
       "  <tbody>\n",
       "    <tr>\n",
       "      <th>0</th>\n",
       "      <td>0</td>\n",
       "      <td>17</td>\n",
       "      <td>Private</td>\n",
       "      <td>0</td>\n",
       "      <td>$9860</td>\n",
       "      <td>6</td>\n",
       "      <td>2</td>\n",
       "      <td>Pickup</td>\n",
       "      <td>41-60</td>\n",
       "      <td>NaN</td>\n",
       "      <td>M</td>\n",
       "      <td>Yes</td>\n",
       "      <td>&lt;High School</td>\n",
       "      <td>Highly Urban</td>\n",
       "      <td>0</td>\n",
       "    </tr>\n",
       "    <tr>\n",
       "      <th>1</th>\n",
       "      <td>0</td>\n",
       "      <td>18</td>\n",
       "      <td>Private</td>\n",
       "      <td>4</td>\n",
       "      <td>$1500</td>\n",
       "      <td>4</td>\n",
       "      <td>2</td>\n",
       "      <td>Sedan</td>\n",
       "      <td>25-40</td>\n",
       "      <td>$4457</td>\n",
       "      <td>M</td>\n",
       "      <td>No</td>\n",
       "      <td>High School</td>\n",
       "      <td>Urban</td>\n",
       "      <td>0</td>\n",
       "    </tr>\n",
       "    <tr>\n",
       "      <th>2</th>\n",
       "      <td>0</td>\n",
       "      <td>47</td>\n",
       "      <td>Commercial</td>\n",
       "      <td>0</td>\n",
       "      <td>$30460</td>\n",
       "      <td>4</td>\n",
       "      <td>1</td>\n",
       "      <td>Panel Truck</td>\n",
       "      <td>41-60</td>\n",
       "      <td>$102904</td>\n",
       "      <td>M</td>\n",
       "      <td>No</td>\n",
       "      <td>Masters</td>\n",
       "      <td>Urban</td>\n",
       "      <td>2</td>\n",
       "    </tr>\n",
       "    <tr>\n",
       "      <th>3</th>\n",
       "      <td>0</td>\n",
       "      <td>31</td>\n",
       "      <td>Private</td>\n",
       "      <td>0</td>\n",
       "      <td>$16580</td>\n",
       "      <td>4</td>\n",
       "      <td>2</td>\n",
       "      <td>SUV</td>\n",
       "      <td>41-60</td>\n",
       "      <td>$14554</td>\n",
       "      <td>F</td>\n",
       "      <td>Yes</td>\n",
       "      <td>High School</td>\n",
       "      <td>Rural</td>\n",
       "      <td>0</td>\n",
       "    </tr>\n",
       "    <tr>\n",
       "      <th>4</th>\n",
       "      <td>0</td>\n",
       "      <td>14</td>\n",
       "      <td>Commercial</td>\n",
       "      <td>2</td>\n",
       "      <td>$23030</td>\n",
       "      <td>4</td>\n",
       "      <td>1</td>\n",
       "      <td>Pickup</td>\n",
       "      <td>41-60</td>\n",
       "      <td>$99493</td>\n",
       "      <td>F</td>\n",
       "      <td>Yes</td>\n",
       "      <td>High School</td>\n",
       "      <td>Urban</td>\n",
       "      <td>2</td>\n",
       "    </tr>\n",
       "  </tbody>\n",
       "</table>\n",
       "</div>"
      ],
      "text/plain": [
       "   KIDSDRIV  TRAVTIME     CAR_USE  MVR_PTS BLUEBOOK  RETAINED  NPOLICY  \\\n",
       "0         0        17     Private        0   $9860          6        2   \n",
       "1         0        18     Private        4   $1500          4        2   \n",
       "2         0        47  Commercial        0  $30460          4        1   \n",
       "3         0        31     Private        0  $16580          4        2   \n",
       "4         0        14  Commercial        2  $23030          4        1   \n",
       "\n",
       "      CAR_TYPE    AGE    INCOME GENDER MARRIED      MAX_EDUC       DENSITY  \\\n",
       "0       Pickup  41-60       NaN      M     Yes  <High School  Highly Urban   \n",
       "1        Sedan  25-40    $4457       M      No   High School         Urban   \n",
       "2  Panel Truck  41-60  $102904       M      No       Masters         Urban   \n",
       "3          SUV  41-60   $14554       F     Yes   High School         Rural   \n",
       "4       Pickup  41-60   $99493       F     Yes   High School         Urban   \n",
       "\n",
       "   CLM_FREQ  \n",
       "0         0  \n",
       "1         0  \n",
       "2         2  \n",
       "3         0  \n",
       "4         2  "
      ]
     },
     "execution_count": 5,
     "metadata": {},
     "output_type": "execute_result"
    }
   ],
   "source": [
    "data.head()"
   ]
  },
  {
   "cell_type": "code",
   "execution_count": 6,
   "metadata": {},
   "outputs": [
    {
     "name": "stdout",
     "output_type": "stream",
     "text": [
      "<class 'pandas.core.frame.DataFrame'>\n",
      "RangeIndex: 10296 entries, 0 to 10295\n",
      "Data columns (total 15 columns):\n",
      "KIDSDRIV    10296 non-null int64\n",
      "TRAVTIME    10296 non-null int64\n",
      "CAR_USE     10296 non-null object\n",
      "MVR_PTS     10296 non-null int64\n",
      "BLUEBOOK    10296 non-null object\n",
      "RETAINED    10296 non-null int64\n",
      "NPOLICY     10296 non-null int64\n",
      "CAR_TYPE    10296 non-null object\n",
      "AGE         10296 non-null object\n",
      "INCOME      9727 non-null object\n",
      "GENDER      10296 non-null object\n",
      "MARRIED     10296 non-null object\n",
      "MAX_EDUC    10296 non-null object\n",
      "DENSITY     10296 non-null object\n",
      "CLM_FREQ    10296 non-null int64\n",
      "dtypes: int64(6), object(9)\n",
      "memory usage: 1.2+ MB\n"
     ]
    }
   ],
   "source": [
    "data.info()"
   ]
  },
  {
   "cell_type": "code",
   "execution_count": 7,
   "metadata": {
    "collapsed": true
   },
   "outputs": [],
   "source": [
    "# there is only one column with missing data (\"INCOME\")\n",
    "# given relatively low ratio of missing values, I delete all rows containing them\n",
    "data = data.dropna()"
   ]
  },
  {
   "cell_type": "code",
   "execution_count": 8,
   "metadata": {
    "collapsed": true
   },
   "outputs": [],
   "source": [
    "# transform 'object' data type to 'category'\n",
    "\n",
    "data['CAR_USE'] = data['CAR_USE'].astype('category')\n",
    "data['CAR_TYPE'] = data['CAR_TYPE'].astype('category')\n",
    "data['AGE'] = data['AGE'].astype('category')\n",
    "data['GENDER'] = data['GENDER'].astype('category')\n",
    "data['MARRIED'] = data['MARRIED'].astype('category')\n",
    "data['MAX_EDUC'] = data['MAX_EDUC'].astype('category')\n",
    "data['DENSITY'] = data['DENSITY'].astype('category')\n",
    "cat_columns = data.select_dtypes(['category']).columns"
   ]
  },
  {
   "cell_type": "code",
   "execution_count": 9,
   "metadata": {
    "collapsed": true
   },
   "outputs": [],
   "source": [
    "# remove '$' sign \n",
    "data['BLUEBOOK'] = data['BLUEBOOK'].apply(lambda x: re.findall('\\d+', x)[0])\n",
    "data['INCOME'] = data['INCOME'].apply(lambda x: re.findall('\\d+', x)[0])\n",
    "# change datatype to 'integer'\n",
    "data['BLUEBOOK'] = data['BLUEBOOK'].astype(int)\n",
    "data['INCOME'] = data['INCOME'].astype(int)"
   ]
  },
  {
   "cell_type": "markdown",
   "metadata": {},
   "source": [
    "## Data visualization"
   ]
  },
  {
   "cell_type": "markdown",
   "metadata": {},
   "source": [
    "It's time to visualize our data to find out something new about chosen features. We want to see:\n",
    "- the distribution of our target,\n",
    "- interactions between single features and the target,\n",
    "- correllation heat-map."
   ]
  },
  {
   "cell_type": "code",
   "execution_count": 10,
   "metadata": {},
   "outputs": [
    {
     "name": "stdout",
     "output_type": "stream",
     "text": [
      "0    5942\n",
      "2    1402\n",
      "1    1207\n",
      "3     938\n",
      "4     217\n",
      "5      21\n",
      "Name: CLM_FREQ, dtype: int64\n"
     ]
    },
    {
     "data": {
      "image/png": "[encoded data removed]",
      "text/plain": [
       "<matplotlib.figure.Figure at 0x258b49b0fd0>"
      ]
     },
     "metadata": {},
     "output_type": "display_data"
    },
    {
     "name": "stdout",
     "output_type": "stream",
     "text": [
      "mean = 0.8016860285802405\n",
      "variance = 1.3368756270955577\n"
     ]
    }
   ],
   "source": [
    "print(data['CLM_FREQ'].value_counts())\n",
    "sns.countplot(x='CLM_FREQ', data=data, palette='hls')\n",
    "plt.show()\n",
    "print(\"mean = \" + str(data['CLM_FREQ'].mean()))\n",
    "print(\"variance = \" + str(data['CLM_FREQ'].var()))"
   ]
  },
  {
   "cell_type": "markdown",
   "metadata": {},
   "source": [
    "This is a 'skewed right' distribution, where the majority of car users did not raise a claim at all. Given this proportion, it will be more insightful to predict whether a claim occurs or not. Let's change transform our target variable to binary."
   ]
  },
  {
   "cell_type": "code",
   "execution_count": 11,
   "metadata": {
    "collapsed": true
   },
   "outputs": [],
   "source": [
    "# binarize the target\n",
    "data['CLM_YesNo'] = data.loc[:, 'CLM_FREQ'] > 0\n",
    "data['CLM_YesNo'] = data.loc[:, 'CLM_YesNo'].astype(int)"
   ]
  },
  {
   "cell_type": "code",
   "execution_count": 12,
   "metadata": {
    "collapsed": true
   },
   "outputs": [],
   "source": [
    "# remove the old target\n",
    "data.drop('CLM_FREQ', axis=1, inplace=True)"
   ]
  },
  {
   "cell_type": "markdown",
   "metadata": {},
   "source": [
    "Now I want to learn something about categorical features and their influence on dependent variable."
   ]
  },
  {
   "cell_type": "code",
   "execution_count": 13,
   "metadata": {},
   "outputs": [
    {
     "data": {
      "text/plain": [
       "Text(0,0.5,'Claim Yes/No')"
      ]
     },
     "execution_count": 13,
     "metadata": {},
     "output_type": "execute_result"
    },
    {
     "data": {
      "image/png": "[encoded data removed]",
      "text/plain": [
       "<matplotlib.figure.Figure at 0x258b5399dd8>"
      ]
     },
     "metadata": {},
     "output_type": "display_data"
    }
   ],
   "source": [
    "pd.crosstab(data['MAX_EDUC'],data['CLM_YesNo']).plot(kind='bar', stacked=False)\n",
    "plt.title('Claim frequency for Education degree')\n",
    "plt.xlabel('Education')\n",
    "plt.ylabel('Claim Yes/No')"
   ]
  },
  {
   "cell_type": "markdown",
   "metadata": {},
   "source": [
    "Knowing education degree doesn't help much."
   ]
  },
  {
   "cell_type": "code",
   "execution_count": 14,
   "metadata": {},
   "outputs": [
    {
     "data": {
      "text/plain": [
       "Text(0,0.5,'Claim Yes/No')"
      ]
     },
     "execution_count": 14,
     "metadata": {},
     "output_type": "execute_result"
    },
    {
     "data": {
      "image/png": "[encoded data removed]",
      "text/plain": [
       "<matplotlib.figure.Figure at 0x258b53b8860>"
      ]
     },
     "metadata": {},
     "output_type": "display_data"
    }
   ],
   "source": [
    "pd.crosstab(data['MARRIED'],data['CLM_YesNo']).plot(kind='bar', stacked=False)\n",
    "plt.title('Claim frequency for Married')\n",
    "plt.xlabel('Married')\n",
    "plt.ylabel('Claim Yes/No')"
   ]
  },
  {
   "cell_type": "markdown",
   "metadata": {},
   "source": [
    "Singles tend to raise claims more often than married."
   ]
  },
  {
   "cell_type": "code",
   "execution_count": 15,
   "metadata": {},
   "outputs": [
    {
     "data": {
      "text/plain": [
       "Text(0,0.5,'Claim Yes/No')"
      ]
     },
     "execution_count": 15,
     "metadata": {},
     "output_type": "execute_result"
    },
    {
     "data": {
      "image/png": "[encoded data removed]",
      "text/plain": [
       "<matplotlib.figure.Figure at 0x258b4e0dac8>"
      ]
     },
     "metadata": {},
     "output_type": "display_data"
    }
   ],
   "source": [
    "pd.crosstab(data['CAR_USE'],data['CLM_YesNo']).plot(kind='bar', stacked=False)\n",
    "plt.title('Claim frequency for Car Use')\n",
    "plt.xlabel('Car Use')\n",
    "plt.ylabel('Claim Yes/No')"
   ]
  },
  {
   "cell_type": "code",
   "execution_count": 16,
   "metadata": {},
   "outputs": [
    {
     "data": {
      "text/plain": [
       "Text(0,0.5,'Claim Yes/No')"
      ]
     },
     "execution_count": 16,
     "metadata": {},
     "output_type": "execute_result"
    },
    {
     "data": {
      "image/png": "[encoded data removed]",
      "text/plain": [
       "<matplotlib.figure.Figure at 0x258b5399c50>"
      ]
     },
     "metadata": {},
     "output_type": "display_data"
    }
   ],
   "source": [
    "pd.crosstab(data['CAR_TYPE'],data['CLM_YesNo']).plot(kind='bar', stacked=False)\n",
    "plt.title('Claim frequency for Car Type')\n",
    "plt.xlabel('Car Type')\n",
    "plt.ylabel('Claim Yes/No')"
   ]
  },
  {
   "cell_type": "markdown",
   "metadata": {},
   "source": [
    "Sports car users claim much more often than sedan users."
   ]
  },
  {
   "cell_type": "code",
   "execution_count": 17,
   "metadata": {},
   "outputs": [
    {
     "data": {
      "text/plain": [
       "Text(0,0.5,'Claim Yes/No')"
      ]
     },
     "execution_count": 17,
     "metadata": {},
     "output_type": "execute_result"
    },
    {
     "data": {
      "image/png": "[encoded data removed]",
      "text/plain": [
       "<matplotlib.figure.Figure at 0x258b4ea2c18>"
      ]
     },
     "metadata": {},
     "output_type": "display_data"
    }
   ],
   "source": [
    "pd.crosstab(data['DENSITY'],data['CLM_YesNo']).plot(kind='bar', stacked=False)\n",
    "plt.title('Claim frequency for Density')\n",
    "plt.xlabel('Density')\n",
    "plt.ylabel('Claim Yes/No')"
   ]
  },
  {
   "cell_type": "markdown",
   "metadata": {},
   "source": [
    "Density seems to have significant meaning for our prediction. People who live in rural areas hardly ever raise a claim."
   ]
  },
  {
   "cell_type": "code",
   "execution_count": 18,
   "metadata": {},
   "outputs": [
    {
     "data": {
      "text/plain": [
       "<matplotlib.axes._subplots.AxesSubplot at 0x258b4f0dcc0>"
      ]
     },
     "execution_count": 18,
     "metadata": {},
     "output_type": "execute_result"
    },
    {
     "data": {
      "image/png": "[encoded data removed]",
      "text/plain": [
       "<matplotlib.figure.Figure at 0x258b4e44f98>"
      ]
     },
     "metadata": {},
     "output_type": "display_data"
    }
   ],
   "source": [
    "colormap = plt.cm.viridis\n",
    "cor = data.corr()\n",
    "#cor = cor.drop(['AGE*GENDER'],axis=1).drop(['AGE*GENDER'],axis=0)\n",
    "plt.figure(figsize=(12,12))\n",
    "sns.heatmap(cor,vmax=0.8,cmap=colormap,annot=True,fmt='.2f',square=True,annot_kws={'size':10},linecolor='white',linewidths=0.1)"
   ]
  },
  {
   "cell_type": "markdown",
   "metadata": {},
   "source": [
    "Note the moderate correllation between following variables:\n",
    "- Income & Bluebook (R^2 = 0.43)\n",
    "- MVR_PTS & CLM_YesNo (R^2 = 0.47)\n",
    "\n",
    "The is no need to drop any more features."
   ]
  },
  {
   "cell_type": "markdown",
   "metadata": {},
   "source": [
    "# Create Dummy (one-hot) Variables"
   ]
  },
  {
   "cell_type": "markdown",
   "metadata": {},
   "source": [
    "I will use a pandas function '.get_dummies' to split all categorical features into separate columns."
   ]
  },
  {
   "cell_type": "code",
   "execution_count": 19,
   "metadata": {},
   "outputs": [
    {
     "data": {
      "text/plain": [
       "array(['KIDSDRIV', 'TRAVTIME', 'MVR_PTS', 'BLUEBOOK', 'RETAINED',\n",
       "       'NPOLICY', 'INCOME', 'CLM_YesNo', 'CAR_USE_Private',\n",
       "       'CAR_TYPE_Pickup', 'CAR_TYPE_SUV', 'CAR_TYPE_Sedan',\n",
       "       'CAR_TYPE_Sports Car', 'CAR_TYPE_Van', 'AGE_25-40', 'AGE_41-60',\n",
       "       'AGE_>60', 'GENDER_M', 'MARRIED_Yes', 'MAX_EDUC_Bachelors',\n",
       "       'MAX_EDUC_High School', 'MAX_EDUC_Masters', 'MAX_EDUC_PhD',\n",
       "       'DENSITY_Highly Urban', 'DENSITY_Rural', 'DENSITY_Urban'], dtype=object)"
      ]
     },
     "execution_count": 19,
     "metadata": {},
     "output_type": "execute_result"
    }
   ],
   "source": [
    "data_final = pd.get_dummies(data, drop_first=True)\n",
    "data_final.columns.values"
   ]
  },
  {
   "cell_type": "code",
   "execution_count": 20,
   "metadata": {
    "collapsed": true
   },
   "outputs": [],
   "source": [
    "# select features and target and assign them to corresponding variables\n",
    "y_all = data_final['CLM_YesNo']\n",
    "X_all = data_final.drop('CLM_YesNo', axis = 1)"
   ]
  },
  {
   "cell_type": "markdown",
   "metadata": {},
   "source": [
    "# Feature Selection using Recursive Feature Elimination (RFE) & Lasso"
   ]
  },
  {
   "cell_type": "markdown",
   "metadata": {},
   "source": [
    "Feature selection is a vital step in preparing our data for modelling. We want to feed our model with meaningful features. From the chosen methods, the more accurate one will end up in the final regression.\n",
    "It's time to import necessary libraries:"
   ]
  },
  {
   "cell_type": "code",
   "execution_count": 21,
   "metadata": {
    "collapsed": true
   },
   "outputs": [],
   "source": [
    "from sklearn import datasets\n",
    "from sklearn.feature_selection import RFE\n",
    "from sklearn.linear_model import RandomizedLasso\n",
    "from sklearn.linear_model import LogisticRegression"
   ]
  },
  {
   "cell_type": "code",
   "execution_count": 22,
   "metadata": {},
   "outputs": [
    {
     "name": "stdout",
     "output_type": "stream",
     "text": [
      "[ True False  True False False False False  True False  True  True  True\n",
      " False False  True False  True  True False False  True  True  True False\n",
      "  True]\n",
      "[ 1 10  1 11  8  3 12  1  9  1  1  1  6  7  1  2  1  1 13  4  1  1  1  5  1]\n"
     ]
    }
   ],
   "source": [
    "# RFE selection\n",
    "logreg = LogisticRegression()\n",
    "\n",
    "rfe = RFE(logreg, 13)\n",
    "rfe = rfe.fit(X_all, y_all)\n",
    "print(rfe.support_)\n",
    "print(rfe.ranking_)"
   ]
  },
  {
   "cell_type": "code",
   "execution_count": 23,
   "metadata": {},
   "outputs": [
    {
     "name": "stdout",
     "output_type": "stream",
     "text": [
      "Index(['KIDSDRIV', 'MVR_PTS', 'CAR_USE_Private', 'CAR_TYPE_SUV',\n",
      "       'CAR_TYPE_Sedan', 'CAR_TYPE_Sports Car', 'AGE_41-60', 'GENDER_M',\n",
      "       'MARRIED_Yes', 'MAX_EDUC_Masters', 'MAX_EDUC_PhD',\n",
      "       'DENSITY_Highly Urban', 'DENSITY_Urban'],\n",
      "      dtype='object')\n"
     ]
    }
   ],
   "source": [
    "# print out column names\n",
    "X_rfe = X_all[X_all.columns[rfe.support_]]\n",
    "print (X_rfe.columns)"
   ]
  },
  {
   "cell_type": "code",
   "execution_count": 24,
   "metadata": {},
   "outputs": [
    {
     "name": "stderr",
     "output_type": "stream",
     "text": [
      "C:\\Users\\Adrian\\Anaconda3\\lib\\site-packages\\sklearn\\utils\\deprecation.py:57: DeprecationWarning: Class RandomizedLasso is deprecated; The class RandomizedLasso is deprecated in 0.19 and will be removed in 0.21.\n",
      "  warnings.warn(msg, category=DeprecationWarning)\n"
     ]
    },
    {
     "name": "stdout",
     "output_type": "stream",
     "text": [
      "[ 0.51   0.4    1.     0.455  0.495  0.475  0.49   0.49   0.47   0.525\n",
      "  0.505  0.52   0.455  0.36   0.435  0.44   0.49   0.46   0.37   0.44   0.43\n",
      "  0.47   0.725  0.755  0.585]\n"
     ]
    }
   ],
   "source": [
    "# lasso selection \n",
    "rlasso = RandomizedLasso(scaling=0.025)\n",
    "rlasso.fit(X_all, y_all)\n",
    "\n",
    "print(rlasso.scores_)"
   ]
  },
  {
   "cell_type": "code",
   "execution_count": 25,
   "metadata": {},
   "outputs": [
    {
     "name": "stdout",
     "output_type": "stream",
     "text": [
      "Index(['KIDSDRIV', 'MVR_PTS', 'BLUEBOOK', 'RETAINED', 'NPOLICY', 'INCOME',\n",
      "       'CAR_USE_Private', 'CAR_TYPE_Pickup', 'CAR_TYPE_SUV', 'CAR_TYPE_Sedan',\n",
      "       'CAR_TYPE_Sports Car', 'CAR_TYPE_Van', 'GENDER_M', 'MARRIED_Yes',\n",
      "       'MAX_EDUC_PhD', 'DENSITY_Highly Urban', 'DENSITY_Rural',\n",
      "       'DENSITY_Urban'],\n",
      "      dtype='object')\n"
     ]
    }
   ],
   "source": [
    "# print out column names\n",
    "X_lasso = X_all[X_all.columns[rlasso.scores_ >= 0.45]]\n",
    "print(X_lasso.columns)"
   ]
  },
  {
   "cell_type": "code",
   "execution_count": 26,
   "metadata": {
    "collapsed": true
   },
   "outputs": [],
   "source": [
    "# rename our target vector\n",
    "y = y_all"
   ]
  },
  {
   "cell_type": "markdown",
   "metadata": {},
   "source": [
    "# General Linear Models"
   ]
  },
  {
   "cell_type": "markdown",
   "metadata": {},
   "source": [
    "Let's compare our feature selections on two distributions: Poisson and Negative Binomial.\n",
    "For this purpose, I am using 'statsmodels' library."
   ]
  },
  {
   "cell_type": "code",
   "execution_count": 27,
   "metadata": {},
   "outputs": [
    {
     "name": "stderr",
     "output_type": "stream",
     "text": [
      "C:\\Users\\Adrian\\Anaconda3\\lib\\site-packages\\statsmodels\\compat\\pandas.py:56: FutureWarning: The pandas.core.datetools module is deprecated and will be removed in a future version. Please use the pandas.tseries module instead.\n",
      "  from pandas.core import datetools\n"
     ]
    }
   ],
   "source": [
    "import statsmodels.api as sm"
   ]
  },
  {
   "cell_type": "code",
   "execution_count": 28,
   "metadata": {},
   "outputs": [
    {
     "name": "stdout",
     "output_type": "stream",
     "text": [
      "                 Generalized Linear Model Regression Results                  \n",
      "==============================================================================\n",
      "Dep. Variable:              CLM_YesNo   No. Observations:                 9727\n",
      "Model:                            GLM   Df Residuals:                     9714\n",
      "Model Family:                 Poisson   Df Model:                           12\n",
      "Link Function:                    log   Scale:                             1.0\n",
      "Method:                          IRLS   Log-Likelihood:                -7048.0\n",
      "Date:                Fri, 08 Dec 2017   Deviance:                       6526.1\n",
      "Time:                        17:41:00   Pearson chi2:                 5.81e+03\n",
      "No. Iterations:                     5                                         \n",
      "========================================================================================\n",
      "                           coef    std err          z      P>|z|      [0.025      0.975]\n",
      "----------------------------------------------------------------------------------------\n",
      "KIDSDRIV                -0.0087      0.029     -0.294      0.769      -0.066       0.049\n",
      "MVR_PTS                  0.1333      0.006     23.100      0.000       0.122       0.145\n",
      "CAR_USE_Private         -0.2877      0.036     -8.080      0.000      -0.358      -0.218\n",
      "CAR_TYPE_SUV            -0.6258      0.045    -13.882      0.000      -0.714      -0.537\n",
      "CAR_TYPE_Sedan          -0.4559      0.045    -10.218      0.000      -0.543      -0.368\n",
      "CAR_TYPE_Sports Car     -0.5529      0.056     -9.807      0.000      -0.663      -0.442\n",
      "AGE_41-60               -0.3627      0.030    -11.988      0.000      -0.422      -0.303\n",
      "GENDER_M                -0.5743      0.035    -16.432      0.000      -0.643      -0.506\n",
      "MARRIED_Yes             -0.3641      0.030    -12.179      0.000      -0.423      -0.306\n",
      "MAX_EDUC_Masters        -0.1377      0.043     -3.180      0.001      -0.223      -0.053\n",
      "MAX_EDUC_PhD            -0.2018      0.061     -3.325      0.001      -0.321      -0.083\n",
      "DENSITY_Highly Urban     0.2006      0.040      4.962      0.000       0.121       0.280\n",
      "DENSITY_Urban            0.0567      0.040      1.423      0.155      -0.021       0.135\n",
      "========================================================================================\n"
     ]
    }
   ],
   "source": [
    "# model Poisson with RFE features\n",
    "glm_poisson1 = sm.GLM(y, X_rfe, family=sm.families.Poisson())\n",
    "res = glm_poisson1.fit()\n",
    "print(res.summary())"
   ]
  },
  {
   "cell_type": "code",
   "execution_count": 29,
   "metadata": {},
   "outputs": [
    {
     "name": "stdout",
     "output_type": "stream",
     "text": [
      "                 Generalized Linear Model Regression Results                  \n",
      "==============================================================================\n",
      "Dep. Variable:              CLM_YesNo   No. Observations:                 9727\n",
      "Model:                            GLM   Df Residuals:                     9709\n",
      "Model Family:                 Poisson   Df Model:                           17\n",
      "Link Function:                    log   Scale:                             1.0\n",
      "Method:                          IRLS   Log-Likelihood:                -6646.6\n",
      "Date:                Fri, 08 Dec 2017   Deviance:                       5723.1\n",
      "Time:                        17:41:00   Pearson chi2:                 5.58e+03\n",
      "No. Iterations:                     5                                         \n",
      "========================================================================================\n",
      "                           coef    std err          z      P>|z|      [0.025      0.975]\n",
      "----------------------------------------------------------------------------------------\n",
      "KIDSDRIV                 0.0618      0.029      2.109      0.035       0.004       0.119\n",
      "MVR_PTS                  0.1609      0.006     26.793      0.000       0.149       0.173\n",
      "BLUEBOOK             -2.406e-05   2.36e-06    -10.208      0.000   -2.87e-05   -1.94e-05\n",
      "RETAINED                -0.0112      0.004     -2.822      0.005      -0.019      -0.003\n",
      "NPOLICY                 -0.0685      0.018     -3.719      0.000      -0.105      -0.032\n",
      "INCOME               -2.142e-06   4.34e-07     -4.930      0.000   -2.99e-06   -1.29e-06\n",
      "CAR_USE_Private         -0.1551      0.040     -3.904      0.000      -0.233      -0.077\n",
      "CAR_TYPE_Pickup         -0.6925      0.064    -10.814      0.000      -0.818      -0.567\n",
      "CAR_TYPE_SUV            -0.8115      0.075    -10.823      0.000      -0.958      -0.664\n",
      "CAR_TYPE_Sedan          -0.7347      0.066    -11.119      0.000      -0.864      -0.605\n",
      "CAR_TYPE_Sports Car     -0.7672      0.083     -9.266      0.000      -0.929      -0.605\n",
      "CAR_TYPE_Van            -0.4207      0.071     -5.944      0.000      -0.559      -0.282\n",
      "GENDER_M                -0.2499      0.045     -5.494      0.000      -0.339      -0.161\n",
      "MARRIED_Yes             -0.1733      0.032     -5.354      0.000      -0.237      -0.110\n",
      "MAX_EDUC_PhD             0.0542      0.064      0.842      0.400      -0.072       0.180\n",
      "DENSITY_Highly Urban     0.5002      0.079      6.310      0.000       0.345       0.656\n",
      "DENSITY_Rural           -0.7243      0.104     -6.941      0.000      -0.929      -0.520\n",
      "DENSITY_Urban            0.3958      0.079      4.992      0.000       0.240       0.551\n",
      "========================================================================================\n"
     ]
    }
   ],
   "source": [
    "# model Poisson with Lasso features\n",
    "glm_poisson1 = sm.GLM(y, X_lasso, family=sm.families.Poisson())\n",
    "res = glm_poisson1.fit()\n",
    "print(res.summary())"
   ]
  },
  {
   "cell_type": "code",
   "execution_count": 30,
   "metadata": {},
   "outputs": [
    {
     "name": "stdout",
     "output_type": "stream",
     "text": [
      "                 Generalized Linear Model Regression Results                  \n",
      "==============================================================================\n",
      "Dep. Variable:              CLM_YesNo   No. Observations:                 9727\n",
      "Model:                            GLM   Df Residuals:                     9714\n",
      "Model Family:        NegativeBinomial   Df Model:                           12\n",
      "Link Function:                    log   Scale:                  0.450673176687\n",
      "Method:                          IRLS   Log-Likelihood:                -7757.3\n",
      "Date:                Fri, 08 Dec 2017   Deviance:                       5020.4\n",
      "Time:                        17:41:00   Pearson chi2:                 4.38e+03\n",
      "No. Iterations:                     8                                         \n",
      "========================================================================================\n",
      "                           coef    std err          z      P>|z|      [0.025      0.975]\n",
      "----------------------------------------------------------------------------------------\n",
      "KIDSDRIV                 0.0074      0.024      0.305      0.760      -0.040       0.055\n",
      "MVR_PTS                  0.1534      0.005     29.651      0.000       0.143       0.164\n",
      "CAR_USE_Private         -0.3170      0.030    -10.675      0.000      -0.375      -0.259\n",
      "CAR_TYPE_SUV            -0.6987      0.038    -18.425      0.000      -0.773      -0.624\n",
      "CAR_TYPE_Sedan          -0.4877      0.036    -13.390      0.000      -0.559      -0.416\n",
      "CAR_TYPE_Sports Car     -0.6248      0.047    -13.184      0.000      -0.718      -0.532\n",
      "AGE_41-60               -0.4052      0.025    -16.117      0.000      -0.454      -0.356\n",
      "GENDER_M                -0.6349      0.029    -21.636      0.000      -0.692      -0.577\n",
      "MARRIED_Yes             -0.4015      0.025    -16.226      0.000      -0.450      -0.353\n",
      "MAX_EDUC_Masters        -0.1615      0.035     -4.602      0.000      -0.230      -0.093\n",
      "MAX_EDUC_PhD            -0.2039      0.049     -4.174      0.000      -0.300      -0.108\n",
      "DENSITY_Highly Urban     0.3421      0.034     10.067      0.000       0.275       0.409\n",
      "DENSITY_Urban            0.1639      0.033      4.922      0.000       0.099       0.229\n",
      "========================================================================================\n"
     ]
    }
   ],
   "source": [
    "# model Negative binomial with RFE features\n",
    "glm_binom1 = sm.GLM(y, X_rfe, family=sm.families.NegativeBinomial())\n",
    "res = glm_binom1.fit()\n",
    "print(res.summary())"
   ]
  },
  {
   "cell_type": "code",
   "execution_count": 31,
   "metadata": {},
   "outputs": [
    {
     "name": "stdout",
     "output_type": "stream",
     "text": [
      "                 Generalized Linear Model Regression Results                  \n",
      "==============================================================================\n",
      "Dep. Variable:              CLM_YesNo   No. Observations:                 9727\n",
      "Model:                            GLM   Df Residuals:                     9709\n",
      "Model Family:        NegativeBinomial   Df Model:                           17\n",
      "Link Function:                    log   Scale:                   0.45486988662\n",
      "Method:                          IRLS   Log-Likelihood:                -7476.5\n",
      "Date:                Fri, 08 Dec 2017   Deviance:                       4458.7\n",
      "Time:                        17:41:00   Pearson chi2:                 4.42e+03\n",
      "No. Iterations:                     7                                         \n",
      "========================================================================================\n",
      "                           coef    std err          z      P>|z|      [0.025      0.975]\n",
      "----------------------------------------------------------------------------------------\n",
      "KIDSDRIV                 0.0849      0.025      3.430      0.001       0.036       0.133\n",
      "MVR_PTS                  0.1798      0.005     33.550      0.000       0.169       0.190\n",
      "BLUEBOOK             -2.506e-05   1.92e-06    -13.084      0.000   -2.88e-05   -2.13e-05\n",
      "RETAINED                -0.0126      0.003     -3.841      0.000      -0.019      -0.006\n",
      "NPOLICY                 -0.0694      0.015     -4.643      0.000      -0.099      -0.040\n",
      "INCOME               -2.582e-06   3.57e-07     -7.234      0.000   -3.28e-06   -1.88e-06\n",
      "CAR_USE_Private         -0.1811      0.033     -5.481      0.000      -0.246      -0.116\n",
      "CAR_TYPE_Pickup         -0.7520      0.053    -14.159      0.000      -0.856      -0.648\n",
      "CAR_TYPE_SUV            -0.8662      0.061    -14.098      0.000      -0.987      -0.746\n",
      "CAR_TYPE_Sedan          -0.8039      0.055    -14.745      0.000      -0.911      -0.697\n",
      "CAR_TYPE_Sports Car     -0.8032      0.068    -11.791      0.000      -0.937      -0.670\n",
      "CAR_TYPE_Van            -0.4844      0.059     -8.178      0.000      -0.601      -0.368\n",
      "GENDER_M                -0.2580      0.037     -6.934      0.000      -0.331      -0.185\n",
      "MARRIED_Yes             -0.2046      0.027     -7.607      0.000      -0.257      -0.152\n",
      "MAX_EDUC_PhD             0.0801      0.053      1.520      0.128      -0.023       0.183\n",
      "DENSITY_Highly Urban     0.6178      0.064      9.624      0.000       0.492       0.744\n",
      "DENSITY_Rural           -0.6661      0.080     -8.295      0.000      -0.824      -0.509\n",
      "DENSITY_Urban            0.4834      0.064      7.540      0.000       0.358       0.609\n",
      "========================================================================================\n"
     ]
    }
   ],
   "source": [
    "# model Negative binomial with Lasso features\n",
    "glm_binom1 = sm.GLM(y, X_lasso, family=sm.families.NegativeBinomial())\n",
    "res = glm_binom1.fit()\n",
    "print(res.summary())"
   ]
  },
  {
   "cell_type": "markdown",
   "metadata": {},
   "source": [
    "The main takeaway from these reports is, that in both cases the features selected by Lasso method seem to perform better (coefficients are better matched). I inference this by comparing Log-Likelihood parameters. A side note is that in our example Poisson model performs better than the Negative binomial model. \n",
    "\n",
    "In order to measure the accuracy of my work and make it interpretable, I will move forward to regular Logistics Regression model. But prior to that, let's take a look at the baseline model, hence the simplest possible model assuming no claims at all."
   ]
  },
  {
   "cell_type": "code",
   "execution_count": 32,
   "metadata": {},
   "outputs": [
    {
     "name": "stdout",
     "output_type": "stream",
     "text": [
      "Baseline accuracy: 0.6108769404749665\n"
     ]
    }
   ],
   "source": [
    "# divide 0 claims by all observations\n",
    "bas = 5942/len(y)\n",
    "print (\"Baseline accuracy: \" + str(bas))"
   ]
  },
  {
   "cell_type": "code",
   "execution_count": 33,
   "metadata": {
    "collapsed": true
   },
   "outputs": [],
   "source": [
    "# choose features selected by Lasso method\n",
    "X = X_lasso"
   ]
  },
  {
   "cell_type": "code",
   "execution_count": 34,
   "metadata": {},
   "outputs": [
    {
     "name": "stderr",
     "output_type": "stream",
     "text": [
      "C:\\Users\\Adrian\\Anaconda3\\lib\\site-packages\\sklearn\\cross_validation.py:41: DeprecationWarning: This module was deprecated in version 0.18 in favor of the model_selection module into which all the refactored classes and functions are moved. Also note that the interface of the new CV iterators are different from that of this module. This module will be removed in 0.20.\n",
      "  \"This module will be removed in 0.20.\", DeprecationWarning)\n"
     ]
    },
    {
     "data": {
      "text/plain": [
       "LogisticRegression(C=1.0, class_weight=None, dual=False, fit_intercept=True,\n",
       "          intercept_scaling=1, max_iter=100, multi_class='ovr', n_jobs=1,\n",
       "          penalty='l2', random_state=None, solver='liblinear', tol=0.0001,\n",
       "          verbose=0, warm_start=False)"
      ]
     },
     "execution_count": 34,
     "metadata": {},
     "output_type": "execute_result"
    }
   ],
   "source": [
    "# split the data\n",
    "from sklearn.cross_validation import train_test_split\n",
    "X_train, X_test, y_train, y_test = train_test_split(X, y, test_size=0.25, random_state=11)\n",
    "\n",
    "# train the model\n",
    "from sklearn.linear_model import LogisticRegression\n",
    "from sklearn import metrics\n",
    "logreg = LogisticRegression()\n",
    "logreg.fit(X_train, y_train)"
   ]
  },
  {
   "cell_type": "code",
   "execution_count": 35,
   "metadata": {},
   "outputs": [
    {
     "name": "stdout",
     "output_type": "stream",
     "text": [
      "Accuracy of logistic regression classifier on test set: 0.73\n"
     ]
    }
   ],
   "source": [
    "# predict and check accuracy\n",
    "y_pred = logreg.predict(X_test)\n",
    "print('Accuracy of logistic regression classifier on test set: {:.2f}'.format(logreg.score(X_test, y_test)))"
   ]
  },
  {
   "cell_type": "code",
   "execution_count": 36,
   "metadata": {},
   "outputs": [
    {
     "data": {
      "text/plain": [
       "array([1, 0, 1, 0, 1])"
      ]
     },
     "execution_count": 36,
     "metadata": {},
     "output_type": "execute_result"
    }
   ],
   "source": [
    "# check the first 5 predictions\n",
    "y_pred[:5]"
   ]
  },
  {
   "cell_type": "code",
   "execution_count": 37,
   "metadata": {},
   "outputs": [
    {
     "name": "stdout",
     "output_type": "stream",
     "text": [
      "[[ 0.06834711  0.93165289]\n",
      " [ 0.85911005  0.14088995]\n",
      " [ 0.43202189  0.56797811]\n",
      " [ 0.64013237  0.35986763]\n",
      " [ 0.12859449  0.87140551]]\n"
     ]
    }
   ],
   "source": [
    "# generate class probabilities\n",
    "probs = logreg.predict_proba(X_test)\n",
    "print (probs[:5])"
   ]
  },
  {
   "cell_type": "markdown",
   "metadata": {},
   "source": [
    "# Confusion Matrix"
   ]
  },
  {
   "cell_type": "markdown",
   "metadata": {},
   "source": [
    "Although, general accuracy is very important in any classification method, investigating Confusion Matrix will lead us to even more insightful conclusions."
   ]
  },
  {
   "cell_type": "code",
   "execution_count": 38,
   "metadata": {},
   "outputs": [
    {
     "name": "stdout",
     "output_type": "stream",
     "text": [
      "[[1299  232]\n",
      " [ 416  485]]\n"
     ]
    }
   ],
   "source": [
    "# create simple confusion matrix\n",
    "from sklearn.metrics import confusion_matrix\n",
    "confusion_matrix = confusion_matrix(y_test, y_pred)\n",
    "print(confusion_matrix)"
   ]
  },
  {
   "cell_type": "markdown",
   "metadata": {
    "collapsed": true
   },
   "source": [
    "TP: 1299 (accurately predicted no-claim) FN: 232 (falsely predicted claim)\n",
    "FP: 416 (falsely predicted no-claim) TN: 485 (accurately predicted claim)"
   ]
  },
  {
   "cell_type": "code",
   "execution_count": 40,
   "metadata": {},
   "outputs": [
    {
     "name": "stdout",
     "output_type": "stream",
     "text": [
      "             precision    recall  f1-score   support\n",
      "\n",
      "          0       0.76      0.85      0.80      1531\n",
      "          1       0.68      0.54      0.60       901\n",
      "\n",
      "avg / total       0.73      0.73      0.73      2432\n",
      "\n"
     ]
    }
   ],
   "source": [
    "# precision & recall\n",
    "from sklearn.metrics import classification_report\n",
    "print(classification_report(y_test, y_pred))"
   ]
  },
  {
   "cell_type": "code",
   "execution_count": 41,
   "metadata": {
    "collapsed": true
   },
   "outputs": [],
   "source": [
    "# precision -> the ratio of people who did not raise a claim out of all people who we predicted that will do so \n",
    "\n",
    "# recall (sensitivity) -> out of all people, who did not raise a claim, how successful we were in predicting so? \n",
    "\n",
    "# f1-score -> weighted average of precision and recall"
   ]
  },
  {
   "cell_type": "markdown",
   "metadata": {},
   "source": [
    "# ROC CURVE"
   ]
  },
  {
   "cell_type": "markdown",
   "metadata": {},
   "source": [
    "The ROC curve is a fundamental tool for test evaluation and is complementary to sensitivity/specificity report. It shows true positive rate (sensitivity) vs false positive rate (100 - specificity) for different cut-off points."
   ]
  },
  {
   "cell_type": "code",
   "execution_count": 42,
   "metadata": {},
   "outputs": [
    {
     "data": {
      "image/png": "[encoded data removed]",
      "text/plain": [
       "<matplotlib.figure.Figure at 0x258b9c1a7b8>"
      ]
     },
     "metadata": {},
     "output_type": "display_data"
    }
   ],
   "source": [
    "from sklearn.metrics import roc_auc_score\n",
    "from sklearn.metrics import roc_curve\n",
    "logit_roc_auc = roc_auc_score(y_test, logreg.predict(X_test))\n",
    "fpr, tpr, thresholds = roc_curve(y_test, logreg.predict_proba(X_test)[:,1])\n",
    "plt.figure()\n",
    "plt.plot(fpr, tpr, label='Logistic Regression (area = %0.2f)' % logit_roc_auc)\n",
    "plt.plot([0, 1], [0, 1],'r--')\n",
    "plt.xlim([0.0, 1.0])\n",
    "plt.ylim([0.0, 1.05])\n",
    "plt.xlabel('False Positive Rate')\n",
    "plt.ylabel('True Positive Rate')\n",
    "plt.title('Receiver operating characteristic')\n",
    "plt.legend(loc=\"lower right\")\n",
    "plt.savefig('Log_ROC')\n",
    "plt.show()"
   ]
  },
  {
   "cell_type": "markdown",
   "metadata": {
    "collapsed": true
   },
   "source": [
    "At this point I finish my analysis. I hope you enjoyed going through this notebook."
   ]
  }
 ],
 "metadata": {
  "kernelspec": {
   "display_name": "Python 3",
   "language": "python",
   "name": "python3"
  },
  "language_info": {
   "codemirror_mode": {
    "name": "ipython",
    "version": 3
   },
   "file_extension": ".py",
   "mimetype": "text/x-python",
   "name": "python",
   "nbconvert_exporter": "python",
   "pygments_lexer": "ipython3",
   "version": "3.6.4"
  }
 },
 "nbformat": 4,
 "nbformat_minor": 2
}
